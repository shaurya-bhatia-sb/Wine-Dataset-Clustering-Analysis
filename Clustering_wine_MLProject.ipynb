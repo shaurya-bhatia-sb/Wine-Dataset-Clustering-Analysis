{
  "nbformat": 4,
  "nbformat_minor": 0,
  "metadata": {
    "colab": {
      "provenance": [],
      "authorship_tag": "ABX9TyNFNEMppUJSaRRBbsis3YQM",
      "include_colab_link": true
    },
    "kernelspec": {
      "name": "python3",
      "display_name": "Python 3"
    },
    "language_info": {
      "name": "python"
    }
  },
  "cells": [
    {
      "cell_type": "markdown",
      "metadata": {
        "id": "view-in-github",
        "colab_type": "text"
      },
      "source": [
        "<a href=\"https://colab.research.google.com/github/shaurya-bhatia-sb/Wine-Dataset-Clustering-Analysis/blob/main/Clustering_wine_MLProject.ipynb\" target=\"_parent\"><img src=\"https://colab.research.google.com/assets/colab-badge.svg\" alt=\"Open In Colab\"/></a>"
      ]
    },
    {
      "cell_type": "markdown",
      "source": [
        "Importing Libraries"
      ],
      "metadata": {
        "id": "eQVyXnLHPsuL"
      }
    },
    {
      "cell_type": "code",
      "execution_count": null,
      "metadata": {
        "id": "C5hFIry1tVme"
      },
      "outputs": [],
      "source": [
        "import pandas as pd\n",
        "import numpy as np\n",
        "from sklearn.preprocessing import StandardScaler, MinMaxScaler\n",
        "from sklearn.decomposition import PCA\n",
        "from sklearn.cluster import KMeans, MeanShift, AgglomerativeClustering\n",
        "from sklearn.metrics import silhouette_score, calinski_harabasz_score, davies_bouldin_score\n",
        "import matplotlib.pyplot as plt\n",
        "import seaborn as sns"
      ]
    },
    {
      "cell_type": "markdown",
      "source": [
        "Data Pre-Processing"
      ],
      "metadata": {
        "id": "cKCOPE8fPyeC"
      }
    },
    {
      "cell_type": "code",
      "source": [
        "def apply_scaling(data, method='none'):\n",
        "    if method == 'normalize':\n",
        "        return MinMaxScaler().fit_transform(data)\n",
        "    elif method == 'standardize':\n",
        "        return StandardScaler().fit_transform(data)\n",
        "    return data\n",
        "\n",
        "def apply_pca(data, n_components=2):\n",
        "    pca = PCA(n_components=n_components)\n",
        "    return pca.fit_transform(data)"
      ],
      "metadata": {
        "id": "N49uKwlOtcRz"
      },
      "execution_count": null,
      "outputs": []
    },
    {
      "cell_type": "markdown",
      "source": [
        "Load Dataset"
      ],
      "metadata": {
        "id": "ZTQlhiHePzBK"
      }
    },
    {
      "cell_type": "code",
      "source": [
        "url = \"https://archive.ics.uci.edu/ml/machine-learning-databases/wine/wine.data\"\n",
        "columns = ['Class', 'Alcohol', 'Malic_acid', 'Ash', 'Alcalinity', 'Magnesium', 'Phenols',\n",
        "           'Flavanoids', 'Nonflavanoid', 'Proanthocyanins', 'Color_intensity', 'Hue',\n",
        "           'OD280_OD315', 'Proline']\n",
        "data = pd.read_csv(url, header=None, names=columns)\n",
        "X = data.drop('Class', axis=1)\n",
        "y = data['Class']"
      ],
      "metadata": {
        "id": "bbElGNNotcGN"
      },
      "execution_count": null,
      "outputs": []
    },
    {
      "cell_type": "markdown",
      "source": [
        "Clustering and Evaluation Function"
      ],
      "metadata": {
        "id": "oaG6dHWCPziA"
      }
    },
    {
      "cell_type": "code",
      "source": [
        "def cluster_and_evaluate(X, algorithm, clusters=3):\n",
        "    model = algorithm(n_clusters=clusters)\n",
        "    labels = model.fit_predict(X)\n",
        "    silhouette = silhouette_score(X, labels)\n",
        "    ch_score = calinski_harabasz_score(X, labels)\n",
        "    db_score = davies_bouldin_score(X, labels)\n",
        "    return silhouette, ch_score, db_score"
      ],
      "metadata": {
        "id": "_LqJJXqdtcUV"
      },
      "execution_count": null,
      "outputs": []
    },
    {
      "cell_type": "markdown",
      "source": [
        "Different Configurations"
      ],
      "metadata": {
        "id": "JTTIQrIdQTlG"
      }
    },
    {
      "cell_type": "code",
      "source": [
        "results = []\n",
        "for scaling in ['none', 'normalize', 'standardize']:\n",
        "    X_scaled = apply_scaling(X, scaling)\n",
        "    for use_pca in [True, False]:\n",
        "        X_final = apply_pca(X_scaled) if use_pca else X_scaled\n",
        "        for clusters in [3, 4, 5]:\n",
        "            for algorithm, name in [(KMeans, 'KMeans'), (AgglomerativeClustering, 'Hierarchical')]:\n",
        "                silhouette, ch_score, db_score = cluster_and_evaluate(X_final, algorithm, clusters)\n",
        "                results.append([scaling, use_pca, name, clusters, silhouette, ch_score, db_score])\n"
      ],
      "metadata": {
        "id": "Wuz7yXNTtcWo"
      },
      "execution_count": null,
      "outputs": []
    },
    {
      "cell_type": "markdown",
      "source": [
        "Dataframe Creation"
      ],
      "metadata": {
        "id": "tm94_QJOP0tw"
      }
    },
    {
      "cell_type": "code",
      "source": [
        "results_df = pd.DataFrame(results, columns=['Scaling', 'PCA', 'Algorithm', 'Clusters',\n",
        "                                            'Silhouette', 'Calinski-Harabasz', 'Davies-Bouldin'])\n",
        "display(results_df)"
      ],
      "metadata": {
        "id": "1U5o2tuKtcYr"
      },
      "execution_count": null,
      "outputs": []
    },
    {
      "cell_type": "markdown",
      "source": [
        "Results"
      ],
      "metadata": {
        "id": "lLKX-t57P1YV"
      }
    },
    {
      "cell_type": "code",
      "source": [
        "plt.figure(figsize=(12, 8))\n",
        "sns.barplot(data=results_df, x='Clusters', y='Silhouette', hue='Algorithm')\n",
        "plt.title(\"Silhouette Score by Clustering Method\")\n",
        "plt.show()"
      ],
      "metadata": {
        "id": "qWcFOKPVtca6"
      },
      "execution_count": null,
      "outputs": []
    }
  ]
}